{
 "cells": [
  {
   "cell_type": "markdown",
   "metadata": {},
   "source": [
    "# Project Euler Solutions\n",
    "This notebook contains discussion of the solution of Project Euler problems.\n",
    "\n",
    "The code is largely contained in the file `project_euler_functions.py`."
   ]
  },
  {
   "cell_type": "code",
   "execution_count": null,
   "metadata": {},
   "outputs": [],
   "source": [
    "import project_euler_functions as pe\n",
    "import math\n",
    "import datetime"
   ]
  },
  {
   "cell_type": "markdown",
   "metadata": {},
   "source": [
    "## Problem 19\n",
    "<p>You are given the following information, but you may prefer to do some research for yourself.</p>\n",
    "<ul><li>1 Jan 1900 was a Monday.</li>\n",
    "<li>Thirty days has September,<br />\n",
    "April, June and November.<br />\n",
    "All the rest have thirty-one,<br />\n",
    "Saving February alone,<br />\n",
    "Which has twenty-eight, rain or shine.<br />\n",
    "And on leap years, twenty-nine.</li>\n",
    "<li>A leap year occurs on any year evenly divisible by 4, but not on a century unless it is divisible by 400.</li>\n",
    "</ul><p>How many Sundays fell on the first of the month during the twentieth century (1 Jan 1901 to 31 Dec 2000)?</p>"
   ]
  },
  {
   "cell_type": "markdown",
   "metadata": {},
   "source": [
    "### Initial ideas\n",
    "There are not that many years and not that many months to check here, so it seems reasonable to attempt this by brute force with a for loop, just checking what day is when. I'll try to do this w/o any libraries first.\n",
    "\n",
    "IDEA: Check how many first days of the month were Sundays, rather than the other way around, as there were fewer first days of the month than Sundays\n",
    "\n",
    "IDEA: I could write down how many days each month has.\n",
    "\n",
    "IDEA: As a different kind of challenge, I could use a library that handles dates and times and try to extract this info as straightforwardly as possible."
   ]
  },
  {
   "cell_type": "code",
   "execution_count": 38,
   "metadata": {},
   "outputs": [
    {
     "name": "stdout",
     "output_type": "stream",
     "text": [
      "171\n"
     ]
    }
   ],
   "source": [
    "# Here is my first attempt, which I was reasonably confident would be right but\n",
    "# which I made a mistake in because I had referred to February as month 2 \n",
    "# (rather than 1 as Python required due to 0-indexing).\n",
    "\n",
    "# a list containing how many days there are in each month:\n",
    "days = [31,28,31,30,31,30,31,31,30,31,30,31]\n",
    "\n",
    "# lists of months and weekdays (only used for helpful print statements):\n",
    "months = ['Jan','Feb','Mar','Apr','May','Jun','Jul','Aug','Sep','Oct','Nov','Dec']\n",
    "weekdays = ['Mon','Tue','Wed','Thu','Fri','Sat','Sun']\n",
    "\n",
    "count = 0 # a variable to store the number of Sunday 1st ... from 1901 to 2000.\n",
    "current_day = 0 # 0 corresponds with Monday, 1 with Tuesday etc.\n",
    "\n",
    "# loop through all the desired years\n",
    "for year in range(1900,2001):\n",
    "    for month in range(12):\n",
    "        # print(f'The first day of {months[month]} {year} was a {weekdays[current_day]}.')\n",
    "\n",
    "        # the data we were given was for 1900, but we only want to from 1901...\n",
    "        if year>=1901 and current_day%7 == 6:\n",
    "            # if the start of the month is a Sunday, add one to the count\n",
    "            # print(f'The first day of {months[month]} {year} was a {weekdays[current_day]}.')\n",
    "            count+=1\n",
    "            # print(count)\n",
    "\n",
    "        # make sure to add an extra day if we are in Feb and its a leap year:\n",
    "        if month == 1 and year%4==0 and (year%100!=0 or year%400==0):\n",
    "            # print(f'February {year} had 29 days.')\n",
    "            extra = 1\n",
    "        else: extra = 0\n",
    "\n",
    "        # move the current day on by the appropriate number of days\n",
    "        current_day += (days[month] + extra)\n",
    "        # if we go past the end of the week, go back to the start:\n",
    "        current_day %= 7\n",
    "\n",
    "print(count)"
   ]
  },
  {
   "cell_type": "markdown",
   "metadata": {},
   "source": [
    "Here is an approach using the datetime module and working through all the dates."
   ]
  },
  {
   "cell_type": "code",
   "execution_count": 49,
   "metadata": {},
   "outputs": [
    {
     "name": "stdout",
     "output_type": "stream",
     "text": [
      "171\n"
     ]
    }
   ],
   "source": [
    "start_date = datetime.date(1901,1,1)\n",
    "end_date = datetime.date(2000,12,31)\n",
    "\n",
    "# creating a timedelta means it's easy to move on by one day.\n",
    "change = datetime.timedelta(days=1)\n",
    "\n",
    "# create a variable to store the number of Sunday 1st...\n",
    "count = 0\n",
    "\n",
    "# start at the start date\n",
    "current = start_date\n",
    "\n",
    "# Until we reach the end_date, keep counting Sunday 1st...\n",
    "while current <= end_date:\n",
    "    \n",
    "    # If it's the first of a month and also a Sunday...\n",
    "    if current.day ==1 and current.weekday()==6:\n",
    "        # ... add one to the Sunday 1sts.\n",
    "        count += 1\n",
    "    current += change\n",
    "\n",
    "print(count)"
   ]
  },
  {
   "cell_type": "markdown",
   "metadata": {},
   "source": [
    "A nice extension would be to write a function that would let you indicate any particular type of day and identify how many such days there were in a given time window."
   ]
  },
  {
   "cell_type": "markdown",
   "metadata": {},
   "source": [
    "## Problem 20\n",
    "$n!$ means $n \\times (n - 1) \\times \\cdots \\times 3 \\times 2 \\times 1$.\n",
    "\n",
    "For example, $10! = 10 \\times 9 \\times \\cdots \\times 3 \\times 2 \\times 1 = 3628800$, and the sum of the digits in the number $10!$ is $3 + 6 + 2 + 8 + 8 + 0 + 0 = 27$.\n",
    "\n",
    "Find the sum of the digits in the number $100!$."
   ]
  },
  {
   "cell_type": "markdown",
   "metadata": {},
   "source": [
    "### Initial ideas\n",
    "There are lots of zeros, which we could get rid of straight away, in fact before we even calculate $n!$."
   ]
  },
  {
   "cell_type": "code",
   "execution_count": 35,
   "metadata": {},
   "outputs": [],
   "source": [
    "def adapt_fact(n):\n",
    "    '''\n",
    "    Return the factorial of n divided by its highest power of 10 factor.\n",
    "    '''\n",
    "\n",
    "    answer = 1\n",
    "\n",
    "    for i in range(1,n+1):\n",
    "        answer *= i\n",
    "        while answer%10==0:\n",
    "            answer/=10\n",
    "\n",
    "    return(int(answer))"
   ]
  },
  {
   "cell_type": "markdown",
   "metadata": {},
   "source": [
    "Unfortunately this is not accurate once we get to $n=27$:"
   ]
  },
  {
   "cell_type": "code",
   "execution_count": 47,
   "metadata": {},
   "outputs": [
    {
     "name": "stdout",
     "output_type": "stream",
     "text": [
      "10888869450418352160768000000\n",
      "10888869450418353078272\n"
     ]
    }
   ],
   "source": [
    "print(math.factorial(27))\n",
    "\n",
    "print(adapt_fact(27))"
   ]
  },
  {
   "cell_type": "markdown",
   "metadata": {},
   "source": [
    "Next we could write function that will calculate the digit sum."
   ]
  },
  {
   "cell_type": "code",
   "execution_count": 48,
   "metadata": {},
   "outputs": [],
   "source": [
    "def digit_sum(n):\n",
    "    '''\n",
    "    Calculate the digit sum of n.\n",
    "    '''\n",
    "\n",
    "    answer = 0\n",
    "\n",
    "    while n>0:\n",
    "        answer += n%10\n",
    "        n = n//10\n",
    "\n",
    "    return(answer)"
   ]
  },
  {
   "cell_type": "code",
   "execution_count": 49,
   "metadata": {},
   "outputs": [
    {
     "data": {
      "text/plain": [
       "648"
      ]
     },
     "execution_count": 49,
     "metadata": {},
     "output_type": "execute_result"
    }
   ],
   "source": [
    "digit_sum(math.factorial(100))"
   ]
  }
 ],
 "metadata": {
  "kernelspec": {
   "display_name": "pe_env",
   "language": "python",
   "name": "python3"
  },
  "language_info": {
   "codemirror_mode": {
    "name": "ipython",
    "version": 3
   },
   "file_extension": ".py",
   "mimetype": "text/x-python",
   "name": "python",
   "nbconvert_exporter": "python",
   "pygments_lexer": "ipython3",
   "version": "3.13.1"
  }
 },
 "nbformat": 4,
 "nbformat_minor": 2
}
